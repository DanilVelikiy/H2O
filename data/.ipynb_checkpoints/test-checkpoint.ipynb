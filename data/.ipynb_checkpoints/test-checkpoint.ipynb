{
 "cells": [
  {
   "cell_type": "code",
   "execution_count": 1,
   "id": "ef22adf7-68b3-4387-9fbc-9f70f4cb2402",
   "metadata": {},
   "outputs": [
    {
     "name": "stdout",
     "output_type": "stream",
     "text": [
      "Checking whether there is an H2O instance running at http://localhost:54321..... not found.\n",
      "Attempting to start a local H2O server...\n",
      "  Java Version: openjdk version \"11.0.20\" 2023-07-18; OpenJDK Runtime Environment (build 11.0.20+8-post-Ubuntu-1ubuntu120.04); OpenJDK 64-Bit Server VM (build 11.0.20+8-post-Ubuntu-1ubuntu120.04, mixed mode, sharing)\n",
      "  Starting server from /usr/local/lib/python3.8/dist-packages/h2o/backend/bin/h2o.jar\n",
      "  Ice root: /tmp/tmprnrvxg47\n",
      "  JVM stdout: /tmp/tmprnrvxg47/h2o_unknownUser_started_from_python.out\n",
      "  JVM stderr: /tmp/tmprnrvxg47/h2o_unknownUser_started_from_python.err\n",
      "  Server is running at http://127.0.0.1:54321\n",
      "Connecting to H2O server at http://127.0.0.1:54321 ... successful.\n"
     ]
    },
    {
     "data": {
      "text/html": [
       "\n",
       "<style>\n",
       "\n",
       "#h2o-table-1.h2o-container {\n",
       "  overflow-x: auto;\n",
       "}\n",
       "#h2o-table-1 .h2o-table {\n",
       "  /* width: 100%; */\n",
       "  margin-top: 1em;\n",
       "  margin-bottom: 1em;\n",
       "}\n",
       "#h2o-table-1 .h2o-table caption {\n",
       "  white-space: nowrap;\n",
       "  caption-side: top;\n",
       "  text-align: left;\n",
       "  /* margin-left: 1em; */\n",
       "  margin: 0;\n",
       "  font-size: larger;\n",
       "}\n",
       "#h2o-table-1 .h2o-table thead {\n",
       "  white-space: nowrap; \n",
       "  position: sticky;\n",
       "  top: 0;\n",
       "  box-shadow: 0 -1px inset;\n",
       "}\n",
       "#h2o-table-1 .h2o-table tbody {\n",
       "  overflow: auto;\n",
       "}\n",
       "#h2o-table-1 .h2o-table th,\n",
       "#h2o-table-1 .h2o-table td {\n",
       "  text-align: right;\n",
       "  /* border: 1px solid; */\n",
       "}\n",
       "#h2o-table-1 .h2o-table tr:nth-child(even) {\n",
       "  /* background: #F5F5F5 */\n",
       "}\n",
       "\n",
       "</style>      \n",
       "<div id=\"h2o-table-1\" class=\"h2o-container\">\n",
       "  <table class=\"h2o-table\">\n",
       "    <caption></caption>\n",
       "    <thead></thead>\n",
       "    <tbody><tr><td>H2O_cluster_uptime:</td>\n",
       "<td>04 secs</td></tr>\n",
       "<tr><td>H2O_cluster_timezone:</td>\n",
       "<td>Etc/GMT</td></tr>\n",
       "<tr><td>H2O_data_parsing_timezone:</td>\n",
       "<td>UTC</td></tr>\n",
       "<tr><td>H2O_cluster_version:</td>\n",
       "<td>3.42.0.2</td></tr>\n",
       "<tr><td>H2O_cluster_version_age:</td>\n",
       "<td>23 days</td></tr>\n",
       "<tr><td>H2O_cluster_name:</td>\n",
       "<td>H2O_from_python_unknownUser_bymmck</td></tr>\n",
       "<tr><td>H2O_cluster_total_nodes:</td>\n",
       "<td>1</td></tr>\n",
       "<tr><td>H2O_cluster_free_memory:</td>\n",
       "<td>1.926 Gb</td></tr>\n",
       "<tr><td>H2O_cluster_total_cores:</td>\n",
       "<td>8</td></tr>\n",
       "<tr><td>H2O_cluster_allowed_cores:</td>\n",
       "<td>8</td></tr>\n",
       "<tr><td>H2O_cluster_status:</td>\n",
       "<td>locked, healthy</td></tr>\n",
       "<tr><td>H2O_connection_url:</td>\n",
       "<td>http://127.0.0.1:54321</td></tr>\n",
       "<tr><td>H2O_connection_proxy:</td>\n",
       "<td>{\"http\": null, \"https\": null}</td></tr>\n",
       "<tr><td>H2O_internal_security:</td>\n",
       "<td>False</td></tr>\n",
       "<tr><td>Python_version:</td>\n",
       "<td>3.8.10 final</td></tr></tbody>\n",
       "  </table>\n",
       "</div>\n"
      ],
      "text/plain": [
       "--------------------------  ----------------------------------\n",
       "H2O_cluster_uptime:         04 secs\n",
       "H2O_cluster_timezone:       Etc/GMT\n",
       "H2O_data_parsing_timezone:  UTC\n",
       "H2O_cluster_version:        3.42.0.2\n",
       "H2O_cluster_version_age:    23 days\n",
       "H2O_cluster_name:           H2O_from_python_unknownUser_bymmck\n",
       "H2O_cluster_total_nodes:    1\n",
       "H2O_cluster_free_memory:    1.926 Gb\n",
       "H2O_cluster_total_cores:    8\n",
       "H2O_cluster_allowed_cores:  8\n",
       "H2O_cluster_status:         locked, healthy\n",
       "H2O_connection_url:         http://127.0.0.1:54321\n",
       "H2O_connection_proxy:       {\"http\": null, \"https\": null}\n",
       "H2O_internal_security:      False\n",
       "Python_version:             3.8.10 final\n",
       "--------------------------  ----------------------------------"
      ]
     },
     "metadata": {},
     "output_type": "display_data"
    }
   ],
   "source": [
    "import h2o\n",
    "from h2o.automl import H2OAutoML\n",
    "h2o.init()"
   ]
  },
  {
   "cell_type": "code",
   "execution_count": 2,
   "id": "2750321e-7859-4f91-b884-c6c0e2f14a56",
   "metadata": {},
   "outputs": [
    {
     "name": "stdout",
     "output_type": "stream",
     "text": [
      "Parse progress: |████████████████████████████████████████████████████████████████| (done) 100%\n"
     ]
    }
   ],
   "source": [
    "data_path = \"https://autogluon.s3.amazonaws.com/datasets/Inc/train.csv\"\n",
    "\n",
    "# Load data into H2O\n",
    "df = h2o.import_file(data_path)"
   ]
  },
  {
   "cell_type": "code",
   "execution_count": 3,
   "id": "62608b7c-0bfa-405c-8054-e97324c4116d",
   "metadata": {},
   "outputs": [
    {
     "data": {
      "text/html": [
       "<table class='dataframe'>\n",
       "<thead>\n",
       "<tr><th style=\"text-align: right;\">  age</th><th>workclass  </th><th style=\"text-align: right;\">  fnlwgt</th><th>education   </th><th style=\"text-align: right;\">  education-num</th><th>marital-status    </th><th>occupation       </th><th>relationship  </th><th>race  </th><th>sex   </th><th style=\"text-align: right;\">  capital-gain</th><th style=\"text-align: right;\">  capital-loss</th><th style=\"text-align: right;\">  hours-per-week</th><th>native-country  </th><th>class  </th></tr>\n",
       "</thead>\n",
       "<tbody>\n",
       "<tr><td style=\"text-align: right;\">   25</td><td>Private    </td><td style=\"text-align: right;\">  178478</td><td>Bachelors   </td><td style=\"text-align: right;\">             13</td><td>Never-married     </td><td>Tech-support     </td><td>Own-child     </td><td>White </td><td>Female</td><td style=\"text-align: right;\">             0</td><td style=\"text-align: right;\">             0</td><td style=\"text-align: right;\">              40</td><td>United-States   </td><td>&lt;=50K  </td></tr>\n",
       "<tr><td style=\"text-align: right;\">   23</td><td>State-gov  </td><td style=\"text-align: right;\">   61743</td><td>5th-6th     </td><td style=\"text-align: right;\">              3</td><td>Never-married     </td><td>Transport-moving </td><td>Not-in-family </td><td>White </td><td>Male  </td><td style=\"text-align: right;\">             0</td><td style=\"text-align: right;\">             0</td><td style=\"text-align: right;\">              35</td><td>United-States   </td><td>&lt;=50K  </td></tr>\n",
       "<tr><td style=\"text-align: right;\">   46</td><td>Private    </td><td style=\"text-align: right;\">  376789</td><td>HS-grad     </td><td style=\"text-align: right;\">              9</td><td>Never-married     </td><td>Other-service    </td><td>Not-in-family </td><td>White </td><td>Male  </td><td style=\"text-align: right;\">             0</td><td style=\"text-align: right;\">             0</td><td style=\"text-align: right;\">              15</td><td>United-States   </td><td>&lt;=50K  </td></tr>\n",
       "<tr><td style=\"text-align: right;\">   55</td><td>?          </td><td style=\"text-align: right;\">  200235</td><td>HS-grad     </td><td style=\"text-align: right;\">              9</td><td>Married-civ-spouse</td><td>?                </td><td>Husband       </td><td>White </td><td>Male  </td><td style=\"text-align: right;\">             0</td><td style=\"text-align: right;\">             0</td><td style=\"text-align: right;\">              50</td><td>United-States   </td><td>&gt;50K   </td></tr>\n",
       "<tr><td style=\"text-align: right;\">   36</td><td>Private    </td><td style=\"text-align: right;\">  224541</td><td>7th-8th     </td><td style=\"text-align: right;\">              4</td><td>Married-civ-spouse</td><td>Handlers-cleaners</td><td>Husband       </td><td>White </td><td>Male  </td><td style=\"text-align: right;\">             0</td><td style=\"text-align: right;\">             0</td><td style=\"text-align: right;\">              40</td><td>El-Salvador     </td><td>&lt;=50K  </td></tr>\n",
       "<tr><td style=\"text-align: right;\">   51</td><td>Private    </td><td style=\"text-align: right;\">  178054</td><td>Some-college</td><td style=\"text-align: right;\">             10</td><td>Married-civ-spouse</td><td>Sales            </td><td>Husband       </td><td>White </td><td>Male  </td><td style=\"text-align: right;\">             0</td><td style=\"text-align: right;\">             0</td><td style=\"text-align: right;\">              40</td><td>?               </td><td>&gt;50K   </td></tr>\n",
       "<tr><td style=\"text-align: right;\">   33</td><td>Private    </td><td style=\"text-align: right;\">  263561</td><td>Some-college</td><td style=\"text-align: right;\">             10</td><td>Married-civ-spouse</td><td>Craft-repair     </td><td>Husband       </td><td>White </td><td>Male  </td><td style=\"text-align: right;\">             0</td><td style=\"text-align: right;\">             0</td><td style=\"text-align: right;\">              60</td><td>United-States   </td><td>&gt;50K   </td></tr>\n",
       "<tr><td style=\"text-align: right;\">   46</td><td>Private    </td><td style=\"text-align: right;\">  173613</td><td>HS-grad     </td><td style=\"text-align: right;\">              9</td><td>Divorced          </td><td>Adm-clerical     </td><td>Not-in-family </td><td>White </td><td>Female</td><td style=\"text-align: right;\">             0</td><td style=\"text-align: right;\">             0</td><td style=\"text-align: right;\">              40</td><td>United-States   </td><td>&lt;=50K  </td></tr>\n",
       "<tr><td style=\"text-align: right;\">   18</td><td>Private    </td><td style=\"text-align: right;\">  214617</td><td>Some-college</td><td style=\"text-align: right;\">             10</td><td>Never-married     </td><td>Handlers-cleaners</td><td>Own-child     </td><td>White </td><td>Male  </td><td style=\"text-align: right;\">             0</td><td style=\"text-align: right;\">             0</td><td style=\"text-align: right;\">              30</td><td>United-States   </td><td>&lt;=50K  </td></tr>\n",
       "<tr><td style=\"text-align: right;\">   43</td><td>Private    </td><td style=\"text-align: right;\">   84661</td><td>Assoc-voc   </td><td style=\"text-align: right;\">             11</td><td>Married-civ-spouse</td><td>Sales            </td><td>Husband       </td><td>White </td><td>Male  </td><td style=\"text-align: right;\">             0</td><td style=\"text-align: right;\">             0</td><td style=\"text-align: right;\">              45</td><td>United-States   </td><td>&lt;=50K  </td></tr>\n",
       "</tbody>\n",
       "</table><pre style='font-size: smaller; margin-bottom: 1em;'>[39073 rows x 15 columns]</pre>"
      ],
      "text/plain": [
       "  age  workclass      fnlwgt  education       education-num  marital-status      occupation         relationship    race    sex       capital-gain    capital-loss    hours-per-week  native-country    class\n",
       "-----  -----------  --------  ------------  ---------------  ------------------  -----------------  --------------  ------  ------  --------------  --------------  ----------------  ----------------  -------\n",
       "   25  Private        178478  Bachelors                  13  Never-married       Tech-support       Own-child       White   Female               0               0                40  United-States     <=50K\n",
       "   23  State-gov       61743  5th-6th                     3  Never-married       Transport-moving   Not-in-family   White   Male                 0               0                35  United-States     <=50K\n",
       "   46  Private        376789  HS-grad                     9  Never-married       Other-service      Not-in-family   White   Male                 0               0                15  United-States     <=50K\n",
       "   55  ?              200235  HS-grad                     9  Married-civ-spouse  ?                  Husband         White   Male                 0               0                50  United-States     >50K\n",
       "   36  Private        224541  7th-8th                     4  Married-civ-spouse  Handlers-cleaners  Husband         White   Male                 0               0                40  El-Salvador       <=50K\n",
       "   51  Private        178054  Some-college               10  Married-civ-spouse  Sales              Husband         White   Male                 0               0                40  ?                 >50K\n",
       "   33  Private        263561  Some-college               10  Married-civ-spouse  Craft-repair       Husband         White   Male                 0               0                60  United-States     >50K\n",
       "   46  Private        173613  HS-grad                     9  Divorced            Adm-clerical       Not-in-family   White   Female               0               0                40  United-States     <=50K\n",
       "   18  Private        214617  Some-college               10  Never-married       Handlers-cleaners  Own-child       White   Male                 0               0                30  United-States     <=50K\n",
       "   43  Private         84661  Assoc-voc                  11  Married-civ-spouse  Sales              Husband         White   Male                 0               0                45  United-States     <=50K\n",
       "[39073 rows x 15 columns]\n"
      ]
     },
     "execution_count": 3,
     "metadata": {},
     "output_type": "execute_result"
    }
   ],
   "source": [
    "df"
   ]
  },
  {
   "cell_type": "code",
   "execution_count": null,
   "id": "692dc29c-5d79-4a19-a3e8-578bc7d64267",
   "metadata": {},
   "outputs": [],
   "source": []
  }
 ],
 "metadata": {
  "kernelspec": {
   "display_name": "Python 3 (ipykernel)",
   "language": "python",
   "name": "python3"
  },
  "language_info": {
   "codemirror_mode": {
    "name": "ipython",
    "version": 3
   },
   "file_extension": ".py",
   "mimetype": "text/x-python",
   "name": "python",
   "nbconvert_exporter": "python",
   "pygments_lexer": "ipython3",
   "version": "3.8.10"
  }
 },
 "nbformat": 4,
 "nbformat_minor": 5
}
